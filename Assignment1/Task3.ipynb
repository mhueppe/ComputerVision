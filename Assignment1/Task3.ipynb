{
 "cells": [
  {
   "cell_type": "markdown",
   "metadata": {},
   "source": [
    "# Assignment 1\n",
    "\n",
    "### Group 11  \n",
    "Michael Hüppe, Leon Korkmaz"
   ]
  },
  {
   "cell_type": "markdown",
   "metadata": {},
   "source": [
    "## Task 3:  Histograms (pen & paper)"
   ]
  },
  {
   "cell_type": "markdown",
   "metadata": {},
   "source": [
    "Given the normalized histogram indicated by $ p(X) $, the values of $ p(X) $ for each bin should be:\n",
    "\n",
    "$\n",
    "\\begin{array}{c|c|c|c|c|c|c}\n",
    "X & 0 & 1 & 2 & 3 & 4 & 5 \\\\\n",
    "\\hline\n",
    "p(X) & 0.3 & 0.1 & 0.2 & 0.0 & 0.4 & 0.0 \\\\\n",
    "\\end{array}\n",
    "$\n",
    "\n",
    "- **Expected Value $ E[X] $:**\n",
    "\n",
    "   The expected value of X is calculated using the formula $ \\sum_{x=0}^{i} x \\cdot p(x) $\n",
    "\n",
    "   $ E[X] = (0 \\cdot 0.3) + (1 \\cdot 0.1) + (2 \\cdot 0.2) + (3 \\cdot 0.0) + (4 \\cdot 0.4) + (5 \\cdot 0.0) $\n",
    "\n",
    "   $ E[X] = 0 + 0.1 + 0.4 + 0 + 1.6 + 0 = 2.1 $\n",
    "   \n",
    "   $ E[X] = 2.1 $\n",
    "\n",
    "- **Cumulative Histogram Table:**\n",
    "\n",
    "   The probabilities for each bin are accumulated, resulting in the following table:\n",
    "\n",
    "   $\n",
    "   \\begin{array}{c|c|c|c|c|c|c}\n",
    "   X & 0 & 1 & 2 & 3 & 4 & 5 \\\\\n",
    "   \\hline\n",
    "   P(X \\leq x) & 0.3 & 0.4 & 0.6 & 0.6 & 1.0 & 1.0 \\\\\n",
    "   \\end{array}\n",
    "   $"
   ]
  },
  {
   "cell_type": "markdown",
   "metadata": {},
   "source": [
    "Given the normalized histogram indicated by $ q(X) $, the values of $ q(X) $ for each bin should be:\n",
    "\n",
    "$\n",
    "\\begin{array}{c|c|c|c|c|c|c}\n",
    "X & 0 & 1 & 2 & 3 & 4 & 5 \\\\\n",
    "\\hline\n",
    "q(X) & 0.0 & 0.1 & 0.2 & 0.3 & 0.0 & 0.4 \\\\\n",
    "\\end{array}\n",
    "$\n",
    "\n",
    "The $L_1$ (Manhattan) distance is calculated using the formula $ \\sum_{x} |p(x) - q(x)| $\n",
    "\n",
    "\n",
    "$ = |p(0) - q(0)| + |p(1) - q(1)| + |p(2) - q(2)| + |p(3) - q(3)| + |p(4) - q(4)| + |p(5) - q(5)| $\n",
    "\n",
    "$ = |0.3 - 0.0| + |0.1 - 0.1| + |0.2 - 0.2| + |0.0 - 0.3| + |0.4 - 0.0| + |0.0 - 0.4| $\n",
    "\n",
    "$ = 0.3 + 0.0 + 0.0 + 0.3 + 0.4 + 0.4 $ \n",
    "\n",
    "$ = 1.4 $\n",
    "\n",
    "The $L_1$ distance between the normalized histograms $ p(X) $ and $ q(X) $ is  1.4\n"
   ]
  }
 ],
 "metadata": {
  "language_info": {
   "name": "python"
  }
 },
 "nbformat": 4,
 "nbformat_minor": 2
}
