{
 "cells": [
  {
   "cell_type": "markdown",
   "metadata": {},
   "source": [
    "# Task 2\n",
    "\n",
    "Group 11: Michael Hüppe, Leon Korkmaz"
   ]
  },
  {
   "cell_type": "markdown",
   "metadata": {},
   "source": [
    "$G_1$ intersects with $S_1$ and $S_4$:  \n",
    "\n",
    "$\\text{Area}(S_1) = 3$, $\\text{Area}(S_4) = 5$\n",
    "\n",
    "$\\text{Area}(G_1) = 4$\n",
    "\n",
    "$\\text{UE}(G_1) = \\frac{[\\text{Area}(S_1) + \\text{Area}(S_4))] - \\text{Area}(G_1)}{\\text{Area}(G_1)} = \\frac{(3+5) - 4}{4} = \\frac{4}{4} = 1$"
   ]
  },
  {
   "cell_type": "markdown",
   "metadata": {},
   "source": [
    "$G_2$ matches $S_3$ perfectly:  \n",
    "\n",
    "$\\text{Area}(S_3) = 2$\n",
    "\n",
    "$\\text{Area}(G_2) = 2$\n",
    "\n",
    "$\\text{UE}(G_2) = \\frac{[\\text{Area}(S_3)] - \\text{Area}(G_2)}{\\text{Area}(G_2)} = \\frac{(2) - 2}{2} = \\frac{0}{2} = 0$\n",
    "\n"
   ]
  }
 ],
 "metadata": {
  "language_info": {
   "name": "python"
  }
 },
 "nbformat": 4,
 "nbformat_minor": 2
}
