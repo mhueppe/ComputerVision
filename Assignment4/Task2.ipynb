{
 "cells": [
  {
   "cell_type": "markdown",
   "metadata": {},
   "source": [
    "# Task 2\n",
    "\n",
    "Group 11: Michael Hüppe, Leon Korkmaz"
   ]
  },
  {
   "cell_type": "markdown",
   "metadata": {},
   "source": [
    "$G_1$ is intersecting with $S_1$ and $S_2$:  \n",
    "\n",
    "$\\text{Area}(S_1) = 3$, $\\text{Area}(S_4) = 3$\n",
    "\n",
    "$\\text{Area}(G_1) = 4$\n",
    "\n",
    "$\\text{UE}(G_1) = \\frac{[\\text{Area}(S_1) + \\text{Area}(S_2)] - \\text{Area}(G_1)}{\\text{Area}(G_1)} = \\frac{(3+3) - 4}{4} = \\frac{2}{4} = 0.5$"
   ]
  },
  {
   "cell_type": "markdown",
   "metadata": {},
   "source": [
    "$G_2$ is intersecting with $S_3$ with no overlap:  \n",
    "\n",
    "$\\text{Area}(S_3) = 2$\n",
    "\n",
    "$\\text{Area}(G_2) = 2$\n",
    "\n",
    "$\\text{UE}(G_2) = \\frac{[\\text{Area}(S_3)] - \\text{Area}(G_2)}{\\text{Area}(G_2)} = \\frac{(2) - 2}{2} = \\frac{0}{2} = 0$"
   ]
  }
 ],
 "metadata": {
  "language_info": {
   "name": "python"
  }
 },
 "nbformat": 4,
 "nbformat_minor": 2
}
