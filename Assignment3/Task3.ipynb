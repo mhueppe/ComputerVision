{
 "cells": [
  {
   "cell_type": "markdown",
   "metadata": {},
   "source": [
    "# Assignment 3\n",
    "\n",
    "### Group 11  \n",
    "Michael Hüppe, Leon Korkmaz"
   ]
  },
  {
   "cell_type": "markdown",
   "metadata": {},
   "source": [
    "### Task 3: RANSAC properties"
   ]
  },
  {
   "cell_type": "markdown",
   "metadata": {},
   "source": [
    "We want to prove that the number of iterations $k$ needed for RANSAC to succeed with probability $p$ is:\n",
    "\n",
    "$k \\geq \\frac{\\log(1 - p)}{\\log(1 - \\epsilon^m)}.$\n",
    "\n",
    "The probability that a single subset fails (not all points are inliers) is:\n",
    "\n",
    "$P_{\\text{fail}} = 1 - \\epsilon^m.$\n",
    "\n",
    "The probability that all $k$ subsets fail is:\n",
    "\n",
    "$P_{\\text{k fail}} = (1 - \\epsilon^m)^k.$\n",
    "\n",
    "The probability of success (at least one subset succeeds) is:\n",
    "\n",
    "$P_{\\text{success}} = 1 - (1 - \\epsilon^m)^k.$\n",
    "\n",
    "To ensure $P_{\\text{success}} \\geq p$, we write:\n",
    "\n",
    "$1 - (1 - \\epsilon^m)^k \\geq p.$\n",
    "\n",
    "Rearranging:\n",
    "\n",
    "$(1 - \\epsilon^m)^k \\leq 1 - p.$\n",
    "\n",
    "Taking the natural logarithm of both sides:\n",
    "\n",
    "$k \\log(1 - \\epsilon^m) \\leq \\log(1 - p).$\n",
    "\n",
    "Solving for $k$ (noting $\\log(1 - \\epsilon^m) < 0$):\n",
    "\n",
    "$k \\geq \\frac{\\log(1 - p)}{\\log(1 - \\epsilon^m)}.$\n"
   ]
  }
 ],
 "metadata": {
  "language_info": {
   "name": "python"
  }
 },
 "nbformat": 4,
 "nbformat_minor": 2
}
